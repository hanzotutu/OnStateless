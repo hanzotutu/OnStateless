{
 "cells": [
  {
   "cell_type": "markdown",
   "metadata": {
    "slideshow": {
     "slide_type": "slide"
    }
   },
   "source": [
    "# <center> Stateless </center>\n",
    "# <center> Side Effect Free </center>\n",
    "# <center> Referential Transparency </center>"
   ]
  },
  {
   "cell_type": "markdown",
   "metadata": {
    "slideshow": {
     "slide_type": "slide"
    }
   },
   "source": [
    "## Agenda\n",
    "* Concepts\n",
    "* How to Implement Referential Transparency (RT)"
   ]
  },
  {
   "cell_type": "markdown",
   "metadata": {
    "slideshow": {
     "slide_type": "slide"
    }
   },
   "source": [
    "## Concepts (cf. Wikipedia)\n",
    "* A ***stateless protocol*** is a communication protocol in which the receiver must not retain session state from previous requests (e.g. IP, HTTP, ...).\n",
    "* In contrast, a ***stateful protocol*** is a communication protocol in which the receiver may retain session state from previous requests (e.g., TCP, FTP, ...).\n",
    "* An operation, function or expression is said to have a ***side effect*** if it modifies some state variable value(s) outside its local environment, which is to say if it has any observable effect other than its primary effect of returning a value to the invoker of the operation.\n",
    "* An expression is called ***referentially transparent*** if it can be replaced with its corresponding value (and vice-versa) without changing the program's behavior"
   ]
  },
  {
   "cell_type": "markdown",
   "metadata": {
    "slideshow": {
     "slide_type": "subslide"
    }
   },
   "source": [
    "## Benefits of RT\n",
    "* Caching\n",
    "* Laziness\n",
    "* Parallelization"
   ]
  },
  {
   "cell_type": "markdown",
   "metadata": {
    "slideshow": {
     "slide_type": "slide"
    }
   },
   "source": [
    "## How to Implement RT (initial try)\n",
    "\n",
    "```python\n",
    "def A(x, y, z):\n",
    "    return B(x, y) + C(y, z)\n",
    "\n",
    "def B(x, y):\n",
    "    return x + y\n",
    "\n",
    "def C(y, z):\n",
    "    return y * z\n",
    "\n",
    "print(A(1, 2, 3)) # 9\n",
    "```"
   ]
  },
  {
   "cell_type": "markdown",
   "metadata": {
    "scrolled": false,
    "slideshow": {
     "slide_type": "subslide"
    }
   },
   "source": [
    "## Lack of Flexibility\n",
    "What if we want to upgrade function C to C(y, z, zz)?\n",
    "\n",
    "```python\n",
    "def A(x, y, z, zz):\n",
    "    return B(x, y) + C(y, z, zz)\n",
    "\n",
    "def B(x, y):\n",
    "    return x + y\n",
    "\n",
    "def C(y, z, zz):\n",
    "    return y * z + zz\n",
    "\n",
    "print(A(1, 2, 3, 4)) # 13\n",
    "```"
   ]
  },
  {
   "cell_type": "markdown",
   "metadata": {
    "cell_style": "center",
    "slideshow": {
     "slide_type": "subslide"
    }
   },
   "source": [
    "## How to Implement RT (use DAG)\n",
    "```python\n",
    "x, y, z = term_cell(1), term_cell(2), term_cell(3)\n",
    "@eval_cell\n",
    "def A(): return B() + C()\n",
    "@eval_cell\n",
    "def B(): return x() + y()\n",
    "@eval_cell\n",
    "def C(): return y() * z()\n",
    "print(A()) # 9\n",
    "z = 4\n",
    "print(A()) # 11\n",
    "```"
   ]
  },
  {
   "cell_type": "markdown",
   "metadata": {
    "cell_style": "center",
    "slideshow": {
     "slide_type": "subslide"
    }
   },
   "source": [
    "![DAG](dag.png \"DAG\")"
   ]
  },
  {
   "cell_type": "markdown",
   "metadata": {
    "slideshow": {
     "slide_type": "subslide"
    }
   },
   "source": [
    "## Flexibility\n",
    "```python\n",
    "x, y, z = term_cell(1), term_cell(2), term_cell(3)\n",
    "zz = term_cell(4)\n",
    "@eval_cell\n",
    "def A(): return B() + C()\n",
    "@eval_cell\n",
    "def B(): return x() + y()\n",
    "@eval_cell\n",
    "def C(): return y() * z() + zz()\n",
    "print(A()) # 13\n",
    "```"
   ]
  },
  {
   "cell_type": "markdown",
   "metadata": {
    "slideshow": {
     "slide_type": "subslide"
    }
   },
   "source": [
    "## Why Excel Excels\n",
    "![EXCEL](excel.png \"EXCEL\")"
   ]
  },
  {
   "cell_type": "markdown",
   "metadata": {
    "slideshow": {
     "slide_type": "slide"
    }
   },
   "source": [
    "| Stateless | Stateful |\n",
    "| :------:  | :------: |\n",
    "| Fine-grained load balancing      | Coarse-grained load balancing |\n",
    "| Support for object locality      | Poor locality support |\n",
    "| Efficient failure handling       | Overhead from checkpointing |\n",
    "| High overhead for small updates  | Low overhead for small updates |"
   ]
  },
  {
   "cell_type": "code",
   "execution_count": null,
   "metadata": {
    "slideshow": {
     "slide_type": "skip"
    }
   },
   "outputs": [],
   "source": []
  }
 ],
 "metadata": {
  "celltoolbar": "Slideshow",
  "kernelspec": {
   "display_name": "Python 3 (ipykernel)",
   "language": "python",
   "name": "python3"
  },
  "language_info": {
   "codemirror_mode": {
    "name": "ipython",
    "version": 3
   },
   "file_extension": ".py",
   "mimetype": "text/x-python",
   "name": "python",
   "nbconvert_exporter": "python",
   "pygments_lexer": "ipython3",
   "version": "3.7.9"
  },
  "rise": {
   "enable_chalkboard": true,
   "scroll": true
  }
 },
 "nbformat": 4,
 "nbformat_minor": 4
}
